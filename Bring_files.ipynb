{
 "cells": [
  {
   "cell_type": "markdown",
   "metadata": {},
   "source": [
    "This files brings the latest versions of all the ipynb and css files. Does not overwrite newer or identical versions of files. "
   ]
  },
  {
   "cell_type": "code",
   "execution_count": 1,
   "metadata": {},
   "outputs": [
    {
     "name": "stdout",
     "output_type": "stream",
     "text": [
      "Bring_files is bringing necessary files from: /Users/sourishdutta/Dropbox/Machinegrading/fina\n",
      "Grader_11.ipynb copied to destination (did not exist there before)\n",
      "MiscTasks_01.ipynb copied to destination (did not exist there before)\n",
      "Bring_files.ipynb NOT updated because files are identical\n",
      "Update_Master.ipynb copied to destination (did not exist there before)\n",
      "mystyle.css copied to destination (did not exist there before)\n",
      "Update_Master.py copied to destination (did not exist there before)\n",
      "grader_funs.py copied to destination (did not exist there before)\n",
      "Bring_files.py updated\n"
     ]
    }
   ],
   "source": [
    "import os\n",
    "import re\n",
    "from sys import exit\n",
    "import shutil\n",
    "import glob\n",
    "import filecmp\n",
    "\n",
    "def copy_if_modified (file, dest, verbose=False):\n",
    "    _, tail = os.path.split(file)\n",
    "    dest_file=os.path.join(dest,tail)\n",
    "    if os.path.isfile(file) and os.path.isdir(dest) and os.path.isfile(dest_file):\n",
    "        if os.path.getmtime(file)>os.path.getmtime(dest_file) and not filecmp.cmp(file, dest_file) :\n",
    "            shutil.copy(file, dest)\n",
    "            if verbose:\n",
    "                print(tail+\" updated\")\n",
    "        else:\n",
    "            if os.path.getmtime(file)>os.path.getmtime(dest_file):\n",
    "                problem=\" destination copy is more recent\"\n",
    "            if os.path.isfile(dest_file):\n",
    "                problem=\" files are identical\"\n",
    "            if verbose:\n",
    "                print(tail+\" NOT updated because\"+problem)\n",
    "    elif os.path.isfile(file) and os.path.isdir(dest) and not os.path.isfile(dest_file):\n",
    "        shutil.copy(file, dest)\n",
    "        if verbose:\n",
    "            print(tail+\" copied to destination (did not exist there before)\")\n",
    "        \n",
    "    else:\n",
    "        print(\"Unable to copy \"+file+\" File or destination invalid\")\n",
    "\n",
    "cwd = os.getcwd()\n",
    "src_folder='fina'\n",
    "#src_folder='fina'\n",
    "\n",
    "def most_recent(program):\n",
    "    u = [int(re.search(r'\\d+',x).group()) for x in program]\n",
    "    to_select=u.index(max(u))\n",
    "    return program[to_select]\n",
    "\n",
    "\n",
    "home=os.path.expanduser('~')\n",
    "src_choices=[os.path.join(home,'Dropbox','Machinegrading',src_folder),os.path.join(home,'Documents','Dropbox','Machinegrading',src_folder)]\n",
    "if src_choices:\n",
    "    frm=[x for x in src_choices if os.path.isdir(x)][0]\n",
    "else:\n",
    "    sys.exit('origin folder not found. Specify correct path in src_choices')\n",
    "    \n",
    "#get latest versions of Grader and MiskTasks\n",
    "pyfiles=glob.glob(os.path.join(frm, '*.ipynb'))+glob.glob(os.path.join(frm, '*.css'))+glob.glob(os.path.join(frm, '*.py'))\n",
    "graders=[x for x in pyfiles if \"Grader\" in x]\n",
    "miscs=[x for x in pyfiles if \"MiscTasks\" in x]\n",
    "toget=[most_recent(graders),most_recent(miscs)]+[x for x in pyfiles if not \"Grader\" in x and not \"MiscTasks\" in x and not \"Untitled\" in x]\n",
    "\n",
    "print(\"Bring_files is bringing necessary files from: \"+frm)\n",
    "if cwd!=frm:\n",
    "    for file in toget:\n",
    "        _, tail = os.path.split(file)\n",
    "        copy_if_modified(file, cwd, verbose=True)\n",
    "else:\n",
    "    print(\"Copy this file over to the destination folder and then run it\")"
   ]
  },
  {
   "cell_type": "code",
   "execution_count": 27,
   "metadata": {},
   "outputs": [
    {
     "data": {
      "text/plain": [
       "['/Users/sourishdutta/Dropbox/Machinegrading/fina/MiscTasks.ipynb',\n",
       " '/Users/sourishdutta/Dropbox/Machinegrading/fina/MiscTasks_01.ipynb',\n",
       " '/Users/sourishdutta/Dropbox/Machinegrading/fina/MiscTasks_00.ipynb']"
      ]
     },
     "execution_count": 27,
     "metadata": {},
     "output_type": "execute_result"
    }
   ],
   "source": [
    "miscs"
   ]
  },
  {
   "cell_type": "code",
   "execution_count": 23,
   "metadata": {},
   "outputs": [
    {
     "data": {
      "text/plain": [
       "[5, 7, 3, 1, 6, 4, 0, 2, 11, 8, 10, 9]"
      ]
     },
     "execution_count": 23,
     "metadata": {},
     "output_type": "execute_result"
    }
   ],
   "source": [
    "u"
   ]
  },
  {
   "cell_type": "code",
   "execution_count": null,
   "metadata": {},
   "outputs": [],
   "source": []
  }
 ],
 "metadata": {
  "kernelspec": {
   "display_name": "Python 3",
   "language": "python",
   "name": "python3"
  },
  "language_info": {
   "codemirror_mode": {
    "name": "ipython",
    "version": 3
   },
   "file_extension": ".py",
   "mimetype": "text/x-python",
   "name": "python",
   "nbconvert_exporter": "python",
   "pygments_lexer": "ipython3",
   "version": "3.7.3"
  }
 },
 "nbformat": 4,
 "nbformat_minor": 2
}
