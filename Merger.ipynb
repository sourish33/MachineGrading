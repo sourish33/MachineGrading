{
 "cells": [
  {
   "cell_type": "markdown",
   "metadata": {},
   "source": [
    "# FR and MC merger\n",
    "\n",
    "* Make sure the pdf with free response has FR in its name\n",
    "* Make sure the pdf with MC has MC in its name\n",
    "* Run the code below to merge them into a single file named merged.pdf\n",
    "* answerkey in the MC (assumed to be last page in the MC file) will be automatically removed"
   ]
  },
  {
   "cell_type": "code",
   "execution_count": 26,
   "metadata": {},
   "outputs": [
    {
     "name": "stderr",
     "output_type": "stream",
     "text": [
      "<>:7: SyntaxWarning: assertion is always true, perhaps remove parentheses?\n",
      "<>:11: SyntaxWarning: assertion is always true, perhaps remove parentheses?\n",
      "<>:15: SyntaxWarning: assertion is always true, perhaps remove parentheses?\n",
      "<>:7: SyntaxWarning: assertion is always true, perhaps remove parentheses?\n",
      "<>:11: SyntaxWarning: assertion is always true, perhaps remove parentheses?\n",
      "<>:15: SyntaxWarning: assertion is always true, perhaps remove parentheses?\n",
      "<ipython-input-26-59f832d51424>:7: SyntaxWarning: assertion is always true, perhaps remove parentheses?\n",
      "  assert(len(test_names)!=0, \"No pdfs found\")\n",
      "<ipython-input-26-59f832d51424>:11: SyntaxWarning: assertion is always true, perhaps remove parentheses?\n",
      "  assert(len(FR_arr)==1, \"Multiple tests with FR in name found\")\n",
      "<ipython-input-26-59f832d51424>:15: SyntaxWarning: assertion is always true, perhaps remove parentheses?\n",
      "  assert(len(MC_arr)==1, \"Multiple tests with MC in name found\")\n"
     ]
    }
   ],
   "source": [
    "from pdfrw import PdfReader, PdfWriter\n",
    "import glob\n",
    "\n",
    "# Get test names\n",
    "pdf_tests=glob.glob(\"*.pdf\")\n",
    "test_names = [x for x in pdf_tests]\n",
    "# assert(len(test_names)!=0, \"No pdfs found\")\n",
    "\n",
    "# get the FR\n",
    "FR_arr = [x for x in test_names if \"FR\" in x]\n",
    "# assert(len(FR_arr)==1, \"Multiple tests with FR in name found\")\n",
    "FR = FR_arr[0]\n",
    "# get the MC\n",
    "MC_arr = [x for x in test_names if \"MC\" in x]\n",
    "# assert(len(MC_arr)==1, \"Multiple tests with MC in name found\")\n",
    "MC = MC_arr[0]\n",
    "\n",
    "# merge\n",
    "writer = PdfWriter()\n",
    "writer.addpages(PdfReader(MC).pages[:-1])\n",
    "writer.addpages(PdfReader(FR).pages)\n",
    "writer.write(\"merged.pdf\")"
   ]
  },
  {
   "cell_type": "markdown",
   "metadata": {
    "collapsed": true
   },
   "source": [
    "# DEVELOPMENT AREA\n",
    "## All code below is in development"
   ]
  },
  {
   "cell_type": "code",
   "execution_count": 18,
   "metadata": {},
   "outputs": [
    {
     "name": "stdout",
     "output_type": "stream",
     "text": [
      "['Test2_S2022_FR.pdf', 'test2_Sp2022.pdf', 'test2_Sp2022_MC.pdf']\n"
     ]
    }
   ],
   "source": [
    "from pdfrw import PdfReader, PdfWriter\n",
    "import glob\n",
    "\n",
    "# Get test names\n",
    "pdf_tests=glob.glob(\"*.pdf\")\n",
    "test_names = [x for x in pdf_tests]\n",
    "assert(len(test_names)!=0, \"No pdfs found\")\n",
    "\n",
    "# get the FR\n",
    "FR_arr = [x for x in test_names if \"FR\" in x]\n",
    "assert(len(FR_arr)==1, \"Multiple tests with FR in name found\")\n",
    "FR = FR_arr[0]\n",
    "# get the MC\n",
    "MC_arr = [x for x in test_names if \"MC\" in x]\n",
    "assert(len(MC_arr)==1, \"Multiple tests with MC in name found\")\n",
    "MC = MC_arr[0]\n",
    "\n",
    "# merge\n",
    "writer = PdfWriter()\n",
    "writer.addpages(PdfReader(MC).pages[:-1])\n",
    "writer.addpages(PdfReader(FR).pages)\n",
    "writer.write(\"merged.pdf\")\n",
    "\n",
    "\n"
   ]
  },
  {
   "cell_type": "code",
   "execution_count": 25,
   "metadata": {},
   "outputs": [],
   "source": [
    "# get the FR\n",
    "FR_arr = [x for x in test_names if \"FR\" in x]\n",
    "FR = FR_arr[0]\n",
    "# print(FR_arr)\n",
    "# get the MC\n",
    "MC_arr = [x for x in test_names if \"MC\" in x]\n",
    "# print(MC_arr)\n",
    "MC = MC_arr[0]"
   ]
  },
  {
   "cell_type": "code",
   "execution_count": 14,
   "metadata": {},
   "outputs": [],
   "source": []
  },
  {
   "cell_type": "code",
   "execution_count": 24,
   "metadata": {},
   "outputs": [],
   "source": [
    "writer = PdfWriter()\n",
    "writer.addpages(PdfReader(MC).pages[:-1])\n",
    "writer.addpages(PdfReader(FR).pages)\n",
    "writer.write(\"merged.pdf\")"
   ]
  },
  {
   "cell_type": "code",
   "execution_count": 31,
   "metadata": {},
   "outputs": [
    {
     "data": {
      "text/plain": [
       "False"
      ]
     },
     "execution_count": 31,
     "metadata": {},
     "output_type": "execute_result"
    }
   ],
   "source": [
    "len([])!=0"
   ]
  },
  {
   "cell_type": "code",
   "execution_count": null,
   "metadata": {},
   "outputs": [],
   "source": []
  }
 ],
 "metadata": {
  "kernelspec": {
   "display_name": "Python 3",
   "language": "python",
   "name": "python3"
  },
  "language_info": {
   "codemirror_mode": {
    "name": "ipython",
    "version": 3
   },
   "file_extension": ".py",
   "mimetype": "text/x-python",
   "name": "python",
   "nbconvert_exporter": "python",
   "pygments_lexer": "ipython3",
   "version": "3.8.8"
  }
 },
 "nbformat": 4,
 "nbformat_minor": 2
}
