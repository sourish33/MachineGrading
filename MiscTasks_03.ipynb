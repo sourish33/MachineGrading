{
 "cells": [
  {
   "cell_type": "markdown",
   "metadata": {},
   "source": [
    "# The following script prepares the file MP.csv from the MasteringPhysics exported file\n",
    "\n",
    "# Steps:\n",
    "\n",
    "- Download masteringphysics  as MP_raw.csv. \n",
    "\n",
    "- The following code will create the file MP.csv for use in the next script \n",
    "- WARNING: Make sure there are no NaN's (...'s )in the columns of MP_raw (this might happen if a student has been given a deadline extension. Replace the (...) by a 0 before running the script"
   ]
  },
  {
   "cell_type": "code",
   "execution_count": 1,
   "metadata": {},
   "outputs": [],
   "source": [
    "import pandas as pd\n",
    "import numpy as np\n",
    "\n",
    "inputfile = 'MP_raw.csv'\n",
    "outputfile = 'MP.csv'\n",
    "df=pd.read_csv(inputfile, skiprows=3)#reads the file skipping first 3 rows\n",
    "\n",
    "df = df.replace(np.nan, 0)#replaces original NaN's by 0 so these columns are not removed in th next steps\n",
    "df = df.replace('--', np.nan)# mark the --'s by Nan's to nuke them\n",
    "df = df.dropna(axis='columns')\n",
    "df = df[:-1]# removes the useless last row\n",
    "\n",
    "# columns_to_drop = ['Login Name', 'Email', 'Enrollment Status', 'Group(s)']\n",
    "columns_to_drop = ['Enrollment Status', 'Group(s)']\n",
    "df = df.drop(columns_to_drop, axis=1)\n",
    "\n",
    "HW_cols = [x for x in list(df) if 'HW' in x]\n",
    "df['Total Grade'] = df[HW_cols].sum(axis=1)\n",
    "total = df[\"Total Grade\"][df.index[-1]]\n",
    "df['MP Score'] = 100*df['Total Grade']/total\n",
    "df.to_csv(outputfile, index=False)"
   ]
  },
  {
   "cell_type": "markdown",
   "metadata": {},
   "source": [
    "# The following script transfers MP grades to the (downloaded) BS Gradebook\n",
    "\n",
    "# Steps:\n",
    "\n",
    "- Make sure BSGrades contains the orgDefinedId\n",
    "\n",
    "- Run the previous script to convert MP_raw.csv to MP.csv which is properly formatted for processing. \n",
    "\n",
    "- Make sure Brightspace gradebook is downloaded as BSGrades.csv, and \"out of\" for tests are correct. \n",
    "\n",
    "- Set to_print='y' [CLOSE BSGrades.csv if its open]\n",
    "\n",
    "- If Brightspace says \"invalid value\" try hand-typing the first value\n"
   ]
  },
  {
   "cell_type": "code",
   "execution_count": 2,
   "metadata": {},
   "outputs": [
    {
     "name": "stdout",
     "output_type": "stream",
     "text": [
      "Task completed successfully\n"
     ]
    }
   ],
   "source": [
    "import pandas as pd\n",
    "import os\n",
    "\n",
    "df=pd.read_csv('BSGrades.csv')\n",
    "cols=list(df)\n",
    "assert \"OrgDefinedId\" in cols, \"Make sure there is OrgDefinedId in cols\"\n",
    "\n",
    "# stripping off the # from in front of the org defined id\n",
    "dfcopy =df.copy()\n",
    "df[\"OrgDefinedId\"]=df[\"OrgDefinedId\"].apply(lambda x: x[1:] if x[0]==\"#\" else x)\n",
    "\n",
    "#This part finds the name of the column that has the scores. Assumes that this column has MP in its title\n",
    "df_mp=pd.read_csv('MP.csv')\n",
    "cols_mp = list(df_mp)\n",
    "cols_named_MP=[x for x in cols_mp if \"MP\" in x]\n",
    "assert len(cols_named_MP) == 1, \"Make sure the Mastering Scores are in column titled MP Score. No other column should have MP in its header\"\n",
    "MPScores = cols_named_MP[0]\n",
    "\n",
    "df_mp=df_mp.rename(columns={'Student ID': 'OrgDefinedId'})\n",
    "\n",
    "df = pd.merge(df,df_mp[['OrgDefinedId',MPScores]],on='OrgDefinedId', how='left')\n",
    "\n",
    "dfcopy['Mastering Physics Points Grade <Numeric MaxPoints:100 Weight:14.75>']=df[MPScores]\n",
    "\n",
    "try:\n",
    "    dfcopy.to_csv('BSGrades.csv', index=False)\n",
    "    print(\"Task completed successfully\")\n",
    "except:\n",
    "    print('Close BSGrades.csv')"
   ]
  },
  {
   "cell_type": "markdown",
   "metadata": {
    "collapsed": true
   },
   "source": [
    "# The following script calculates letter grades from the numerical grades, and also applies the reward for good dropped midterm. \n",
    "\n",
    "* Create the final file as BSGrades_final.csv (this is after uploading the final exam grades and having BS calculate overall grades)\n",
    "* Adds a column \"Adjusted Numerical Grade\" which includes the reward for the good dropped midterm. \n",
    "* Automatically figures out the available number of points in each midterm.\n",
    "* Calculates letter grades based on this and stores in a new column \"Letter\"\n"
   ]
  },
  {
   "cell_type": "code",
   "execution_count": 1,
   "metadata": {},
   "outputs": [
    {
     "name": "stdout",
     "output_type": "stream",
     "text": [
      "Midterm totals detected: 42, 42, 42\n",
      "Data written to OverallGrades.csv\n"
     ]
    }
   ],
   "source": [
    "import pandas as pd\n",
    "import re\n",
    "def lg(num_grade):\n",
    "    if num_grade<59.5:\n",
    "        return 'F'\n",
    "    elif num_grade>=59.5 and num_grade<62.5:\n",
    "        return 'D-'\n",
    "    elif num_grade>=62.5 and num_grade<66.5:\n",
    "        return 'D'\n",
    "    elif num_grade>=66.5 and num_grade<69.5:\n",
    "        return 'D+'\n",
    "    elif num_grade>=69.5 and num_grade<72.5:\n",
    "        return 'C-'\n",
    "    elif num_grade>=72.5 and num_grade<76.5:\n",
    "        return 'C'\n",
    "    elif num_grade>=76.5 and num_grade<79.5:\n",
    "        return 'C+'\n",
    "    elif num_grade>=79.5 and num_grade<82.5:\n",
    "        return 'B-'\n",
    "    elif num_grade>=82.5 and num_grade<86.5:\n",
    "        return 'B'\n",
    "    elif num_grade>=86.5 and num_grade<89.5:\n",
    "        return 'B+'\n",
    "    elif num_grade>=89.5 and num_grade<92.5:\n",
    "        return 'A-'\n",
    "    else:\n",
    "        return 'A'\n",
    "\n",
    "def f(x, mta):\n",
    "    pointmax0=mta[0]\n",
    "    pointmax1=mta[1]\n",
    "    pointmax2=mta[2]\n",
    "    min_midterm = min(x[0]/pointmax0,x[1]/pointmax1,x[2]/pointmax2)\n",
    "    if min_midterm>=0.7 and min_midterm<0.8:\n",
    "        return x[3]+.5\n",
    "    elif min_midterm>=0.8:\n",
    "        return x[3]+1\n",
    "    else:\n",
    "        return x[3]\n",
    "\n",
    "def striphash(x):\n",
    "    return x[1:]\n",
    "\n",
    "\n",
    "\n",
    "df=pd.read_csv('BSGrades_final.csv')\n",
    "columns = ['Calculated Final Grade Denominator','Adjusted Final Grade Numerator','Adjusted Final Grade Denominator','End-of-Line Indicator']\n",
    "df.drop(columns, inplace=True, axis=1)\n",
    "cols=list(df)\n",
    "testcols = [x for x in cols if \"Category:Midterms\" in x] # These columns have the test scores\n",
    "#Make a dictionary which will hold midterm number and total points for that midterm\n",
    "midterm_totals = {}\n",
    "for i in range(len(testcols)):\n",
    "    midterm_no = int(re.findall(r'Midterm\\s+\\d+|Midterm\\d+', testcols[i])[0][-1])\n",
    "    _ = re.findall(r'MaxPoints:\\d+', testcols[i])[0]\n",
    "    midterm_pts = int(re.findall(r'\\d+', _)[0])\n",
    "    midterm_totals.update( {midterm_no : midterm_pts} )\n",
    "midterm_totals_array = [midterm_totals[1], midterm_totals[2], midterm_totals[3]]\n",
    "print(f'Midterm totals detected: {midterm_totals[1]}, {midterm_totals[2]}, {midterm_totals[3]}')\n",
    "\n",
    "\n",
    "\n",
    "for n in range(1,4):\n",
    "    testname=\"Midterm \"+str(n)+\" Points Grade\"\n",
    "    testname1=\"Midterm\"+str(n)+\" Points Grade\" #Just in case the Midterm appears and Midterm1 rather than Midterm 1\n",
    "    shortname=\"Midterm \"+str(n)\n",
    "    u=[cols.index(x) for x in cols if testname in x or testname1 in x]\n",
    "    if len(u)>0:\n",
    "        cols[u[0]]=shortname\n",
    "    else:\n",
    "        print(testname+\"not found\")\n",
    "df.columns=cols        \n",
    "df.rename(columns={'Calculated Final Grade Numerator': 'Numerical Grade'},inplace=True)\n",
    "df[\"Adjusted Numerical Grade\"] = \"\"\n",
    "df[\"Letter\"] = \"\"\n",
    "\n",
    "df['Adjusted Numerical Grade'] = df[['Midterm 1','Midterm 2','Midterm 3','Numerical Grade']].apply(lambda x: f(x, midterm_totals_array),  axis=1)\n",
    "df['Letter'] = df['Adjusted Numerical Grade'].map(lg)\n",
    "df['OrgDefinedId']=df['OrgDefinedId'].map(striphash)\n",
    "df.rename(columns={'OrgDefinedId': 'VUnetID'},inplace=True)\n",
    "try:\n",
    "    df.to_csv('OverallGrades.csv', index=False)\n",
    "    print('Data written to OverallGrades.csv')\n",
    "except:\n",
    "    print('Close OverallGrades.csv and try again')\n",
    "    \n",
    "    \n"
   ]
  },
  {
   "cell_type": "markdown",
   "metadata": {},
   "source": [
    "# The following script transfers final letter grades into the file for uploading to \"Online Grading\".\n",
    "\n",
    "* Make sure OverallGrades.csv is ready (previous script)\n",
    "\n",
    "* Download the file from Online Grading, name it something like \"fingra_01\",  and set the online_grading_filename variable to the name of this file\n",
    "\n",
    "* Run the script and upload the file finalgrades.csv"
   ]
  },
  {
   "cell_type": "code",
   "execution_count": 4,
   "metadata": {},
   "outputs": [
    {
     "name": "stdout",
     "output_type": "stream",
     "text": [
      "fingra_02.csv written\n"
     ]
    }
   ],
   "source": [
    "import pandas as pd\n",
    "df_copyfrom=pd.read_csv('OverallGrades.csv')\n",
    "\n",
    "online_grading_filename = 'fingra_02.csv'\n",
    "df=pd.read_csv(online_grading_filename)\n",
    "\n",
    "df = pd.merge(df,df_copyfrom[['VUnetID','Letter']],on='VUnetID', how='left')\n",
    "df['Assigned Grade']=df['Letter']\n",
    "df.drop('Letter', inplace=True, axis=1)\n",
    "df = df.fillna('')\n",
    "try:\n",
    "    df.to_csv(online_grading_filename, index=False)\n",
    "    print(\"{} written\".format(online_grading_filename))\n",
    "except:\n",
    "    print('Close open excel file and try again')"
   ]
  },
  {
   "cell_type": "markdown",
   "metadata": {},
   "source": [
    "# The following script calculates the discussion score and updates BSGrades.\n",
    "\n",
    "* Download the discussion results (Introductions -> View Topic Statistics) as DiscussionGrades.csv and Tips.csv\n",
    "\n",
    "* Enter the filesnames and appropriate keywords in the dict \"discussion\"\n",
    "\n",
    "* Download the gradebook as BSGrades.csv\n",
    "\n",
    "* Make sure BSGrades first column is \"OrgDefinedId\" (will give an assert error if not)\n",
    "\n",
    "* The script will calculate the scores for each discussion and write them in the correct columns"
   ]
  },
  {
   "cell_type": "code",
   "execution_count": null,
   "metadata": {},
   "outputs": [],
   "source": [
    "import pandas as pd\n",
    "import glob\n",
    "\n",
    "\n",
    "def calculate_discussion_score(x): \n",
    "    threads=x[1]\n",
    "    replies=x[2]\n",
    "    return min(1,threads)*8+min(2,replies)\n",
    "\n",
    "\n",
    "# discussions = {\"DiscussionGrades.csv\": \"Introduction\", \"Tips.csv\": \"Study Tips\"}\n",
    "discussions = {\"DiscussionGrades.csv\": \"Introduction\"}\n",
    "files = list(discussions.keys())\n",
    "df=pd.read_csv('BSGrades.csv')\n",
    "assert 'OrgDefinedId' in list(df), \"Make sure BSGrades has OrgDefinedId as a header\"\n",
    "dfcopy = df.copy()\n",
    "df.rename(columns={'OrgDefinedId': 'Username'},inplace=True)\n",
    "df['Username']=df['Username'].map(lambda x: x[1:] if x[0]=='#' else x)\n",
    "for file in files:\n",
    "    df_disc=pd.read_csv(file)\n",
    "    list_of_cols=list(df_disc)\n",
    "    list_to_keep=['[Username]','[Threads]','[Replies]']\n",
    "    list_to_drop=[x for x in list_of_cols if not x in list_to_keep]\n",
    "    df_disc.drop(list_to_drop, inplace=True, axis=1)\n",
    "    df_disc[\"Score\"]=0.0\n",
    "    df_disc['Score'] = df_disc.apply(calculate_discussion_score, axis=1)\n",
    "    df_disc.rename(columns={'[Username]': 'Username'},inplace=True)\n",
    "\n",
    "    cols=list(df)\n",
    "    n=[cols.index(x) for x in cols if discussions[file] in x][0]#index of the column in BSGrades containing the keyword for that discussion, e.g. \"Introductions\" \n",
    "    copy_to_column=cols[n]\n",
    "\n",
    "    df = pd.merge(df,df_disc[['Username','Score']],on='Username', how='left')\n",
    "    dfcopy[copy_to_column]=df['Score']\n",
    "    print(\"{} score transfer complete\".format(file))\n",
    "dfcopy.to_csv('BSGrades.csv', index=False)\n",
    "\n",
    "\n",
    "\n"
   ]
  },
  {
   "cell_type": "markdown",
   "metadata": {},
   "source": [
    "# The following script calculates midterm deficiencies for each section and saves as CSV files.\n",
    "\n",
    "* Download grades as BSGrades. Make sure \"Section Membership\" is checked\n",
    "\n",
    "* Change section_prefix and section_suffix appropriately. Adjust for the number of sections\n",
    "\n",
    "* The script will calculate the midterm deficiencies and make a seoparate file for each section for each discussion and write them in the correct columns"
   ]
  },
  {
   "cell_type": "code",
   "execution_count": null,
   "metadata": {},
   "outputs": [],
   "source": [
    "import pandas as pd\n",
    "import regex as re\n",
    "\n",
    "section_prefix='SEC_2022F.1.PHYS.1602.'\n",
    "section_suffix1='02'\n",
    "section_suffix2='03'\n",
    "\n",
    "def lg(num_grade):\n",
    "    if num_grade<59.5:\n",
    "        return 'F'\n",
    "    elif num_grade>=59.5 and num_grade<62.5:\n",
    "        return 'D-'\n",
    "    elif num_grade>=62.5 and num_grade<66.5:\n",
    "        return 'D'\n",
    "    elif num_grade>=66.5 and num_grade<69.5:\n",
    "        return 'D+'\n",
    "    elif num_grade>=69.5 and num_grade<72.5:\n",
    "        return 'C-'\n",
    "    elif num_grade>=72.5 and num_grade<76.5:\n",
    "        return 'C'\n",
    "    elif num_grade>=76.5 and num_grade<79.5:\n",
    "        return 'C+'\n",
    "    elif num_grade>=79.5 and num_grade<82.5:\n",
    "        return 'B-'\n",
    "    elif num_grade>=82.5 and num_grade<86.5:\n",
    "        return 'B'\n",
    "    elif num_grade>=86.5 and num_grade<89.5:\n",
    "        return 'B+'\n",
    "    elif num_grade>=89.5 and num_grade<92.5:\n",
    "        return 'A-'\n",
    "    else:\n",
    "        return 'A'\n",
    "\n",
    "\n",
    "\n",
    "df = pd.read_csv('BSGrades.csv')\n",
    "df = df[['OrgDefinedId', 'Last Name', 'First Name','Sections','Calculated Final Grade Numerator', 'Calculated Final Grade Denominator']]\n",
    "df['Grade'] = 100*df['Calculated Final Grade Numerator']/df['Calculated Final Grade Denominator']\n",
    "df=df.drop(columns=['Calculated Final Grade Numerator', 'Calculated Final Grade Denominator'])\n",
    "df = df.replace(to_replace=section_prefix, value='', regex=True)\n",
    "df['Letter'] = df[\"Grade\"].apply(lg)\n",
    "df02 = df.loc[(df['Sections']==section_suffix1) & (df['Grade']<72.5)].sort_values(by=['Last Name', 'First Name'])\n",
    "df03 = df.loc[(df['Sections']==section_suffix2) & (df['Grade']<72.5)].sort_values(by=['Last Name', 'First Name'])\n",
    "df02.to_csv(f'midterm-deficiencies-section-{section_suffix1}.csv', index=False)\n",
    "df03.to_csv(f'midterm-deficiencies-section-{section_suffix2}.csv', index=False)"
   ]
  },
  {
   "cell_type": "markdown",
   "metadata": {},
   "source": [
    "# The following allows the VU-net id to be transferred to the Student-Id field in the MP roster"
   ]
  },
  {
   "cell_type": "code",
   "execution_count": null,
   "metadata": {},
   "outputs": [],
   "source": [
    "import difflib\n",
    "\n",
    "gradebook='BSGrades.csv'\n",
    "mpfile = 'MP_roster.csv'\n",
    "df = pd.read_csv(gradebook)\n",
    "df=pd.read_csv(gradebook, usecols=[\"Last Name\", \"First Name\", \"Username\"])\n",
    "df['Name']=df['Last Name']+', '+df['First Name']\n",
    "\n",
    "df_mp=pd.read_csv(mpfile, usecols=[\"Name\", \"Student ID\"], skiprows=12)\n",
    "\n",
    "def find_similar(x):\n",
    "    val = difflib.get_close_matches(str(x), df['Name'])\n",
    "    if isinstance(val, list) and len(val)>0:\n",
    "        return val[0]\n",
    "    return \"\"\n",
    "df_mp['Student Matched Name'] = df_mp['Name'].apply(find_similar)\n",
    "\n",
    "# find the non matches\n",
    "df_mp[df_mp[\"Student Matched Name\"] == \"\"]"
   ]
  },
  {
   "cell_type": "code",
   "execution_count": null,
   "metadata": {},
   "outputs": [],
   "source": [
    "# make manual fixes e.g\n",
    "df_mp.iloc[232]['Student Matched Name'] = \"YU JIAHAO\""
   ]
  },
  {
   "cell_type": "code",
   "execution_count": null,
   "metadata": {},
   "outputs": [],
   "source": [
    "merged = pd.merge(df_mp, df, left_on='Student Matched Name', right_on=\"Name\", how=\"left\")\n",
    "cols = [\"Name_x\", \"Name_y\", \"Username\"]\n",
    "merged = merged[cols]\n",
    "merged.to_csv(\"to_check_names.csv\")"
   ]
  },
  {
   "cell_type": "markdown",
   "metadata": {},
   "source": [
    "* Manually inspect the csv file in excel (use duplicate highlighting)\n",
    "* check if name in middle col (from BSGrades) matches name in left col (\"from MP's roster)\n",
    "* Make sure the names of students in MP's roster (left col) have correct student id's (right column)\n",
    "* delete the middle column\n",
    "* import the resulting file\n",
    "* copy paste this data into MP_roster.csv"
   ]
  },
  {
   "cell_type": "markdown",
   "metadata": {},
   "source": [
    "# The following script calculates midterm the questions missed on tests and puts them in the BSGrades file.\n",
    "\n",
    "* Download grades as BSGrades. \n",
    "\n",
    "* Make sure the gradescope output file is ready (By clicking Download Responses in Gradescope)\n",
    "\n",
    "* Change midterm_num. 1-3 for midterms and 4 for final\n",
    "\n",
    "* The script will put in the exam score and the questions missed\n",
    "\n",
    "* If everyone is getting a bonus change bonus_points_for_all"
   ]
  },
  {
   "cell_type": "code",
   "execution_count": 1,
   "metadata": {},
   "outputs": [],
   "source": [
    "import pandas as pd\n",
    "import re\n",
    "midterm_num=4\n",
    "######Change the next line to 0 unless you want to give bonus points to all\n",
    "bonus_points_for_all=0\n",
    "#############################################\n",
    "\n",
    "\n",
    "df = pd.read_csv(\"BSGrades.csv\")\n",
    "    \n",
    "\n",
    "grades_col =\"\"\n",
    "missed_col =\"\"\n",
    "\n",
    "if midterm_num == 4:\n",
    "    df_gs=pd.read_csv('Final_student_responses.csv')\n",
    "    grades_col = 'Final Points Grade <Numeric MaxPoints:57 Weight:25>'\n",
    "    missed_col = 'Final Questions Missed Text Grade <Text>'\n",
    "else:\n",
    "    df_gs=pd.read_csv(f'Midterm_{midterm_num}_student_responses.csv')\n",
    "    grades_col = f'Midterm {midterm_num} Points Grade <Numeric MaxPoints:45 Weight:33.333333333 Category:Midterms CategoryWeight:60>'\n",
    "    missed_col = f\"Midterm {midterm_num} Questions Missed Text Grade <Text>\"\n",
    "    \n",
    "\n",
    "df_gs_colnames =list(df_gs.columns)\n",
    "bsg_colnames = list(df.columns)# for automatically fining the title of the grades col and missed col TODO\n",
    "\n",
    "\n",
    "    \n",
    "#automatically calculating the number of questions using by counting the number of columns titled \"Question n Score\"\n",
    "regex = r\"Question \\d+ Score\"\n",
    "number_of_questions = len([x for x in df_gs_colnames if re.match(regex, x)])\n",
    "    \n",
    "\n",
    "def make_missed_list(x):\n",
    "    if pd.isnull(x[\"Version\"]):\n",
    "        return \"\"\n",
    "\n",
    "    ver =\"v\"+str(x[\"Version\"])+\": \"\n",
    "    missed =[]\n",
    "    res = \"\"\n",
    "    for i in range(1,number_of_questions):\n",
    "        scorecol=f'Question {i} Score'\n",
    "        if x[scorecol] == 0:\n",
    "            missed.append(str(i))\n",
    "    \n",
    "    if missed:\n",
    "        res = ver +\",\".join(missed)\n",
    "    else:\n",
    "        res = ver + \"All Correct!\"\n",
    "        \n",
    "    return res\n",
    "\n",
    "def add_bonus(x):\n",
    "    newval = 0\n",
    "    try:\n",
    "        newval=float(x)+bonus_points_for_all\n",
    "    except ValueError:\n",
    "        pass\n",
    "    return newval\n",
    "\n",
    "\n",
    "df_gs[\"Missed\"] = df_gs.apply(lambda row: make_missed_list(row), axis=1)\n",
    "dfcopy=df.copy()\n",
    "df[\"OrgDefinedId\"]=df[\"OrgDefinedId\"].map(lambda x: x[1:] if x[0]=='#' else x)\n",
    "merged = pd.merge(df, df_gs, left_on=\"OrgDefinedId\", right_on='Student ID', how=\"left\")\n",
    "dfcopy[missed_col] = merged[\"Missed\"]\n",
    "dfcopy[grades_col] = merged[\"Total Score\"].apply(lambda x: add_bonus(x))\n",
    "dfcopy=dfcopy.replace('--', '')\n",
    "dfcopy.to_csv('BSGrades.csv', index=False)"
   ]
  },
  {
   "cell_type": "markdown",
   "metadata": {},
   "source": [
    "# Development Area"
   ]
  },
  {
   "cell_type": "code",
   "execution_count": null,
   "metadata": {},
   "outputs": [],
   "source": [
    "colnames =list(df_gs.columns)"
   ]
  },
  {
   "cell_type": "code",
   "execution_count": null,
   "metadata": {},
   "outputs": [],
   "source": [
    "import re\n",
    "\n",
    "regex = r\"Question \\d+ Score\"\n",
    "\n",
    "len([x for x in colnames if re.match(regex, x)])"
   ]
  },
  {
   "cell_type": "code",
   "execution_count": null,
   "metadata": {},
   "outputs": [],
   "source": [
    "\"abcde\".startswith(f'Midterm {midterm_num}')"
   ]
  },
  {
   "cell_type": "code",
   "execution_count": null,
   "metadata": {},
   "outputs": [],
   "source": [
    "bsg_colnames = list(df.columns)\n",
    "[x for x in bsg_colnames if x.startswith(f'Midterm {1} Points Grade')][0]"
   ]
  },
  {
   "cell_type": "code",
   "execution_count": null,
   "metadata": {},
   "outputs": [],
   "source": [
    "colnames"
   ]
  },
  {
   "cell_type": "code",
   "execution_count": null,
   "metadata": {},
   "outputs": [],
   "source": []
  }
 ],
 "metadata": {
  "kernelspec": {
   "display_name": "Python 3",
   "language": "python",
   "name": "python3"
  },
  "language_info": {
   "codemirror_mode": {
    "name": "ipython",
    "version": 3
   },
   "file_extension": ".py",
   "mimetype": "text/x-python",
   "name": "python",
   "nbconvert_exporter": "python",
   "pygments_lexer": "ipython3",
   "version": "3.8.8"
  }
 },
 "nbformat": 4,
 "nbformat_minor": 2
}
