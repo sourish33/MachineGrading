{
 "cells": [
  {
   "cell_type": "markdown",
   "metadata": {},
   "source": [
    "Slaps on coverpage and scratchwork page. Automatically removes the answerkey page"
   ]
  },
  {
   "cell_type": "code",
   "execution_count": 3,
   "metadata": {},
   "outputs": [
    {
     "name": "stdout",
     "output_type": "stream",
     "text": [
      "Writing Test_v0.pdf\n",
      "Writing Test_v1.pdf\n",
      "Writing Test_v2.pdf\n",
      "Writing Test_v3.pdf\n"
     ]
    }
   ],
   "source": [
    "from pdfrw import PdfReader, PdfWriter\n",
    "import os.path\n",
    "testname='2018-final_v'###################CHANGE THIS######################\n",
    "joinfilepath='C:/Users/souri/Dropbox/MiscTeachingStuff/pre_n_post/'\n",
    "\n",
    "\n",
    "for n in range(5):\n",
    "    inpfn=testname+str(n)+'.pdf'\n",
    "    writer = PdfWriter()\n",
    "    mcp=joinfilepath+'FinalCoverPage'+str(n)+'.pdf'###################FINAL EXAM\n",
    "    #mcp=joinfilepath+'MidtermCoverPage'+str(n)+'.pdf'\n",
    "    op_pg=joinfilepath+'OptionalPage.pdf'###################FINAL EXAM\n",
    "    sp=joinfilepath+'scratchwork.pdf'\n",
    "    if os.path.exists(inpfn) and os.path.exists(mcp) and os.path.exists(sp):\n",
    "        writer.addpages(PdfReader(mcp).pages)\n",
    "        writer.addpages(PdfReader(inpfn).pages[:-1])\n",
    "        writer.addpages(PdfReader(op_pg).pages)\n",
    "        writer.addpages(PdfReader(sp).pages)\n",
    "        opfn='Test_v'+str(n)+'.pdf'\n",
    "        print(\"Writing \"+opfn)\n",
    "        writer.write(opfn)\n",
    "    \n",
    "    "
   ]
  },
  {
   "cell_type": "markdown",
   "metadata": {},
   "source": [
    "The following script transfers MP grades and test grades to the (downloaded) BS Gradebook\n",
    "\n",
    "Steps:\n",
    "\n",
    "Download MP as MP.csv. \n",
    "\n",
    "Calculate the scores in MP and put them in a column titled \"MP Score\". Make sure there is a heading row in MP.\n",
    "\n",
    "Make sure All_processed.csv is ready (All_processed is the output of Grader)\n",
    "\n",
    "Make sure Brightspace gradebook is downloaded as BSGrades.csv, and \"out of\" for tests are correct. \n",
    "\n",
    "The following code will create 3 columns extra columns in BSGrades for MPScores, test scores and test missed.\n",
    "\n",
    "Then it will copy them over to the correct columns. Pay attention to the TWO #### below. \n",
    "\n",
    "Correct 'Test # Questions Missed Text Grade ' and \n",
    "\n",
    "Correct 'Midterm # Points Grade Numeric MaxPoints:40 Weight:33.333333333 Category:Midterms CategoryWeight:60>'\n",
    " "
   ]
  },
  {
   "cell_type": "code",
   "execution_count": 1,
   "metadata": {
    "collapsed": true
   },
   "outputs": [],
   "source": [
    "import pandas as pd"
   ]
  },
  {
   "cell_type": "code",
   "execution_count": 3,
   "metadata": {},
   "outputs": [],
   "source": [
    "import pandas as pd\n",
    "df=pd.read_csv('BSGrades.csv')\n",
    "\n",
    "df_mp=pd.read_csv('MP.csv')\n",
    "df_mp=df_mp.rename(columns={'Student ID': 'Serial Number Text Grade <Text>'})\n",
    "\n",
    "df = pd.merge(df,df_mp[['Serial Number Text Grade <Text>','MP Score']],on='Serial Number Text Grade <Text>', how='left')\n",
    "\n",
    "df_all=pd.read_csv('All_processed.csv')\n",
    "df_all=df_all.rename(columns={'Srl No': 'Serial Number Text Grade <Text>'})\n",
    "\n",
    "df = pd.merge(df,df_all[['Serial Number Text Grade <Text>','Score']],on='Serial Number Text Grade <Text>', how='left')\n",
    "#df = pd.merge(df,df_all[['Serial Number Text Grade <Text>','Missed']],on='Serial Number Text Grade <Text>', how='left')\n",
    "\n",
    "df['Mastering Physics Points Grade <Numeric MaxPoints:100 Weight:14.75>']=df['MP Score']\n",
    "\n",
    "##### CHECK THIS CHECK THIS MAKE SURE YOU ARE DOING THE CORRECT TEST\n",
    "df['Final Points Grade <Numeric MaxPoints:72 Weight:25>']=df['Score']\n",
    "\n",
    "##### CHECK THIS CHECK THIS MAKE SURE YOU ARE DOING THE CORRECT TEST\n",
    "#df['Test 3 Questions Missed Text Grade <Text>']=df['Missed']\n",
    "\n",
    "columns = ['MP Score', 'Score']\n",
    "df.drop(columns, inplace=True, axis=1)\n",
    "\n",
    "df.to_csv('BSGrades.csv', index=False)"
   ]
  },
  {
   "cell_type": "markdown",
   "metadata": {
    "collapsed": true
   },
   "source": [
    "The following script calculates letter grades from the numerical grades, and also applies the reward for good dropped midterm. \n",
    "\n",
    "Create the final file as BSGrades_final.csv\n",
    "\n",
    "Check the filenames to be renamed, particularly \"Midterm1\""
   ]
  },
  {
   "cell_type": "code",
   "execution_count": 47,
   "metadata": {},
   "outputs": [],
   "source": [
    "def lg(num_grade):\n",
    "    if num_grade<59.5:\n",
    "        return 'F'\n",
    "    elif num_grade>=59.5 and num_grade<62.5:\n",
    "        return 'D-'\n",
    "    elif num_grade>=62.5 and num_grade<66.5:\n",
    "        return 'D'\n",
    "    elif num_grade>=66.5 and num_grade<69.5:\n",
    "        return 'D+'\n",
    "    elif num_grade>=69.5 and num_grade<72.5:\n",
    "        return 'C-'\n",
    "    elif num_grade>=72.5 and num_grade<76.5:\n",
    "        return 'C'\n",
    "    elif num_grade>=76.5 and num_grade<79.5:\n",
    "        return 'C+'\n",
    "    elif num_grade>=79.5 and num_grade<82.5:\n",
    "        return 'B-'\n",
    "    elif num_grade>=82.5 and num_grade<86.5:\n",
    "        return 'B'\n",
    "    elif num_grade>=86.5 and num_grade<89.5:\n",
    "        return 'B+'\n",
    "    elif num_grade>=89.5 and num_grade<92.5:\n",
    "        return 'A-'\n",
    "    else:\n",
    "        return 'A'\n",
    "\n",
    "def f(x):\n",
    "    pointmax=40;\n",
    "    if min(x[0]/pointmax,x[1]/pointmax,x[2]/pointmax)>=0.8:\n",
    "        return x[3]+.5\n",
    "    else:\n",
    "        return x[3]"
   ]
  },
  {
   "cell_type": "code",
   "execution_count": 58,
   "metadata": {},
   "outputs": [],
   "source": [
    "import pandas as pd\n",
    "df=pd.read_csv('BSGrades_final.csv')\n",
    "columns = ['Calculated Final Grade Denominator', 'Calculated Final Grade Denominator','Adjusted Final Grade Numerator','Adjusted Final Grade Denominator','End-of-Line Indicator']\n",
    "df.drop(columns, inplace=True, axis=1)\n",
    "########CHECK THIS!!!!! Fix column names to be renamed################\n",
    "df.rename(columns={'Calculated Final Grade Numerator': 'Numerical Grade', \n",
    "                  'Midterm1 Points Grade <Numeric MaxPoints:40 Weight:33.333333333 Category:Midterms CategoryWeight:60>':'Midterm 1',\n",
    "                  'Midterm 2 Points Grade <Numeric MaxPoints:40 Weight:33.333333333 Category:Midterms CategoryWeight:60>':'Midterm 2',\n",
    "                  'Midterm 3 Points Grade <Numeric MaxPoints:40 Weight:33.333333333 Category:Midterms CategoryWeight:60>':'Midterm 3'}, inplace=True)\n",
    "df[\"Letter\"] = \"\"\n",
    "\n",
    "df['Numerical Grade'] = df[['Midterm 1','Midterm 2','Midterm 3','Numerical Grade']].apply(f, axis=1)\n",
    "df['Letter'] = df['Numerical Grade'].map(lg)\n",
    "df.to_csv('OverallGrades.csv', index=False)"
   ]
  },
  {
   "cell_type": "code",
   "execution_count": null,
   "metadata": {
    "collapsed": true
   },
   "outputs": [],
   "source": []
  }
 ],
 "metadata": {
  "kernelspec": {
   "display_name": "Python 3",
   "language": "python",
   "name": "python3"
  },
  "language_info": {
   "codemirror_mode": {
    "name": "ipython",
    "version": 3
   },
   "file_extension": ".py",
   "mimetype": "text/x-python",
   "name": "python",
   "nbconvert_exporter": "python",
   "pygments_lexer": "ipython3",
   "version": "3.6.3"
  }
 },
 "nbformat": 4,
 "nbformat_minor": 2
}
