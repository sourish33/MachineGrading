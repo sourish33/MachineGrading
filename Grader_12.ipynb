{
 "cells": [
  {
   "cell_type": "markdown",
   "metadata": {},
   "source": [
    "# Grader - does all grading and calculating\n",
    "- Manually convert the dat file into an excel file using excel. Only extract the serial number, name and Answers, and make sure Answers is text. **Serial number should not be text**\n",
    "- Make sure all initializations in myconfig.py are correct"
   ]
  },
  {
   "cell_type": "code",
   "execution_count": 1,
   "metadata": {},
   "outputs": [
    {
     "name": "stderr",
     "output_type": "stream",
     "text": [
      "C:\\Users\\souri\\Dropbox\\Machinegrading\\Master\\grader_funs.py:9: FutureWarning: Passing a negative integer is deprecated in version 1.0 and will not be supported in future version. Instead, use None to not limit the column width.\n",
      "  pd.set_option('display.max_colwidth', -1)\n"
     ]
    }
   ],
   "source": [
    "from myconfig import *\n",
    "from grader_funs import *"
   ]
  },
  {
   "cell_type": "code",
   "execution_count": 2,
   "metadata": {},
   "outputs": [
    {
     "name": "stdout",
     "output_type": "stream",
     "text": [
      "Using data from All.xlsx\n",
      "The following scantrons had blanks in them. Please resolve before proceeding.\n"
     ]
    },
    {
     "data": {
      "text/html": [
       "<div>\n",
       "<style scoped>\n",
       "    .dataframe tbody tr th:only-of-type {\n",
       "        vertical-align: middle;\n",
       "    }\n",
       "\n",
       "    .dataframe tbody tr th {\n",
       "        vertical-align: top;\n",
       "    }\n",
       "\n",
       "    .dataframe thead th {\n",
       "        text-align: right;\n",
       "    }\n",
       "</style>\n",
       "<table border=\"1\" class=\"dataframe\">\n",
       "  <thead>\n",
       "    <tr style=\"text-align: right;\">\n",
       "      <th></th>\n",
       "      <th>Srl No</th>\n",
       "      <th>Name</th>\n",
       "      <th>Answers</th>\n",
       "    </tr>\n",
       "  </thead>\n",
       "  <tbody>\n",
       "    <tr>\n",
       "      <th>2</th>\n",
       "      <td>1009</td>\n",
       "      <td>HAN KARIN</td>\n",
       "      <td>0110241221 4040</td>\n",
       "    </tr>\n",
       "  </tbody>\n",
       "</table>\n",
       "</div>"
      ],
      "text/plain": [
       "  Srl No       Name          Answers\n",
       "2  1009   HAN KARIN  0110241221 4040"
      ]
     },
     "metadata": {},
     "output_type": "display_data"
    },
    {
     "data": {
      "text/html": [
       "<div>\n",
       "<style scoped>\n",
       "    .dataframe tbody tr th:only-of-type {\n",
       "        vertical-align: middle;\n",
       "    }\n",
       "\n",
       "    .dataframe tbody tr th {\n",
       "        vertical-align: top;\n",
       "    }\n",
       "\n",
       "    .dataframe thead th {\n",
       "        text-align: right;\n",
       "    }\n",
       "</style>\n",
       "<table border=\"1\" class=\"dataframe\">\n",
       "  <thead>\n",
       "    <tr style=\"text-align: right;\">\n",
       "      <th></th>\n",
       "      <th>Registered Name</th>\n",
       "      <th>Srl No</th>\n",
       "      <th>Entered Name</th>\n",
       "    </tr>\n",
       "  </thead>\n",
       "  <tbody>\n",
       "    <tr>\n",
       "      <th>1</th>\n",
       "      <td>Bolling Atiyaa</td>\n",
       "      <td>1003</td>\n",
       "      <td>NaN</td>\n",
       "    </tr>\n",
       "    <tr>\n",
       "      <th>12</th>\n",
       "      <td>Muezzinoglu Mine</td>\n",
       "      <td>1018</td>\n",
       "      <td>NaN</td>\n",
       "    </tr>\n",
       "    <tr>\n",
       "      <th>2</th>\n",
       "      <td>Carlson Brynn</td>\n",
       "      <td>1002</td>\n",
       "      <td>CARLSON BRYNN L</td>\n",
       "    </tr>\n",
       "    <tr>\n",
       "      <th>3</th>\n",
       "      <td>Carlson Brynn</td>\n",
       "      <td>1002</td>\n",
       "      <td>MUEZZINOGLU MINE</td>\n",
       "    </tr>\n",
       "  </tbody>\n",
       "</table>\n",
       "</div>"
      ],
      "text/plain": [
       "     Registered Name  Srl No      Entered Name\n",
       "1   Bolling Atiyaa    1003    NaN             \n",
       "12  Muezzinoglu Mine  1018    NaN             \n",
       "2   Carlson Brynn     1002    CARLSON BRYNN L \n",
       "3   Carlson Brynn     1002    MUEZZINOGLU MINE"
      ]
     },
     "metadata": {},
     "output_type": "display_data"
    }
   ],
   "source": [
    "rawdatafilename = ''\n",
    "if os.path.exists(good_name+\".xlsx\"):\n",
    "    rawdatafilename=good_name\n",
    "    datafilename=rawdatafilename+'.xlsx'\n",
    "    trash_files('*fake*')\n",
    "\n",
    "if os.path.exists(fake_name+\".xlsx\"):\n",
    "    rawdatafilename= fake_name\n",
    "    datafilename=rawdatafilename+'.xlsx'\n",
    "\n",
    "assert rawdatafilename, \"Make sure either {} or {} is ready\".format(good_name,fake_name)\n",
    "print(\"Using data from {}.xlsx\".format(rawdatafilename))\n",
    "\n",
    "\n",
    "# gradebook='BSGrades.csv'\n",
    "assert(os.path.isfile(datafilename)),'Make sure '+datafilename+\" is ready\"\n",
    "assert(os.path.isfile(gradebook)),'Make sure '+gradebook+' is ready'\n",
    "\n",
    "df = pd.read_excel(datafilename, header=None, usecols=[0,1,2], names = [\"Srl No\", \"Name\", \"Answers\"], dtype='str')\n",
    "#parse_cols makes sure that only cols 0,1 and 2 are extracted\n",
    "just_answers_df=df.loc[:,\"Answers\"]\n",
    "#checking for blanks, print only if blanks found\n",
    "asterisks = False\n",
    "blankers=df[df['Answers'].str.contains(\" \")]\n",
    "stars = df[df['Answers'].str.contains('\\*')]\n",
    "if not blankers.empty:\n",
    "    print(\"The following scantrons had blanks in them. Please resolve before proceeding.\")\n",
    "    display(blankers)\n",
    "if not stars.empty:\n",
    "    print(\"The following scantrons were flagged as unclear. Please resolve before proceeding.\")\n",
    "    display(stars)\n",
    "    asterisks = True\n",
    "ER=check_serial_numbers(gradebook,datafilename)\n",
    "if not ER.empty:\n",
    "    display(ER)\n",
    "\n",
    "df[\"Missed\"] = \"\"\n",
    "df[\"Score\"]=0\n",
    "df[\"Percentage\"]=np.nan\n",
    "number_of_questions_from_scantrons=len(df.loc[0,\"Answers\"])\n",
    "available_points = (number_of_questions_from_scantrons-1)*points_per_question"
   ]
  },
  {
   "cell_type": "code",
   "execution_count": 3,
   "metadata": {},
   "outputs": [
    {
     "name": "stdout",
     "output_type": "stream",
     "text": [
      "Assuming answerkey files are in the .txt files named test1_v\n",
      "1 QUESTIONS ARE BEING AWARDED FREE POINTS! (CHECK MYCONFIG.PY)\n",
      "Generating QIDs. This might take a while..\n",
      "Done. That took: 0.8904180526733398 sec.\n",
      "18x3=54 points available, but grading out of 51, dropping 3 points for a midterm.\n"
     ]
    }
   ],
   "source": [
    "assert not asterisks, \"Please resolve the answerkeys with *'s in them before proceeding'\"\n",
    "\n",
    "\n",
    "#determining whether the test in question is a final or a midterm. 3 points dropped for a final and 2 points dropped for a midterm\n",
    "tstfiles=glob.glob(\"*.tst\")#get all tst files\n",
    "tstnames=[x[:-5] for x in tstfiles]# make list of the file names\n",
    "tstname = most_frequent(tstnames)# pick the most common file name, assuming that is the actual test\n",
    " \n",
    "\n",
    "assert os.path.exists(tstname+\"0.txt\") |  os.path.exists(\"key0.txt\"), \"answerkey0 not found. Make sure it is named key0.txt or something like 2019_test1v0.txt\"\n",
    "  \n",
    "if not os.path.exists(tstname+\"0.txt\"):\n",
    "        tstname = \"key\"\n",
    "print(\"Assuming answerkey files are in the .txt files named {}\".format(tstname))   \n",
    "\n",
    "if bool([x for x in tstfiles if \"final\" in x.lower()]):\n",
    "    point_drop = point_drop_final\n",
    "    fin = True\n",
    "else:\n",
    "    point_drop = point_drop_midterm\n",
    "    fin = False\n",
    "    \n",
    "if freebies:\n",
    "    print(\"{} questions are being awarded free points! (check myconfig.py)\".format(len(freebies)).upper())\n",
    "\n",
    "\n",
    "if skipped_questions:\n",
    "    print(\"{} questions are being skipped!(check myconfig.py)\".format(len(skipped_questions)).upper())\n",
    "\n",
    "quids_dfs=createQuestionIDs_and_dfs(tstname, max_words=50)\n",
    "QIDs=quids_dfs[\"IDs\"]\n",
    "exempts=make_special_question_list(freebies, QIDs)\n",
    "skipped = make_special_question_list(skipped_questions, QIDs)\n",
    "\n",
    "outs = getAllKeys(tstname, points_per_question, skipped)\n",
    "keylist=outs[\"keylist\"]\n",
    "pointlist=outs[\"pointlist\"]\n",
    "numberOfQuestions=outs[\"numberOfQuestions\"]\n",
    "assert number_of_questions_from_scantrons == numberOfQuestions, \"The number of questions on the test ({}) does not match the number of questions on the scantron ({})\".format(numberOfQuestions,number_of_questions_from_scantrons)\n",
    "sum_pointlists =[sum(x) for x in pointlist]\n",
    "the_common_sum = set(sum_pointlists)\n",
    "assert (len(the_common_sum)==1), \"Each version should have the same total number of points\"\n",
    "totalpoints = list(the_common_sum)[0]\n",
    "new_totalpoints=totalpoints-point_drop\n",
    "\n",
    "\n",
    "if fin:\n",
    "    print(\"{}x{}={} points available, but grading out of {}, dropping {} points for a final.\".format(number_of_questions_from_scantrons-1,points_per_question, totalpoints, new_totalpoints, point_drop))\n",
    "else:\n",
    "    print(\"{}x{}={} points available, but grading out of {}, dropping {} points for a midterm.\".format(number_of_questions_from_scantrons-1,points_per_question, totalpoints, new_totalpoints, point_drop))\n",
    "\n",
    "\n",
    "\n",
    "\n",
    "\n",
    "\n",
    "\n",
    "numberOfVersions=len(keylist)\n",
    "numberOfStudents=df.shape[0]\n",
    "\n",
    "koschen_paper=quids_dfs['dfs']\n",
    "v0_question_list = list(koschen_paper[0].loc[:,\"Question\"]) #List of questions in version 0\n",
    "assert(keylist and pointlist and QIDs and koschen_paper and numberOfQuestions!=0),\"Either keylist or pointlist or QIDs or koschen_paper or  numberOfQuestions is null\"\n",
    "\n",
    "\n",
    "analysis_df  = pd.DataFrame(index=range(numberOfStudents),columns = list(QIDs[0])+[\"score\"])# stores whether answer was correct, questions are the columns, last column is the score\n"
   ]
  },
  {
   "cell_type": "code",
   "execution_count": 4,
   "metadata": {
    "scrolled": false
   },
   "outputs": [
    {
     "name": "stdout",
     "output_type": "stream",
     "text": [
      "Starting calculations...\n",
      "Analysing data for version: A\n",
      "Analysing data for version: B\n",
      "Analysing data for version: C\n",
      "Analysing data for version: D\n",
      "Analysing data for version: E\n",
      "Done. That took: 0.15623736381530762 sec for 139 students\n"
     ]
    }
   ],
   "source": [
    "##Everything initialized. Running the code now\n",
    "   \n",
    "\n",
    "incorrect_length =  df[(df['Answers'].map(len)<numberOfQuestions-1) | (df['Answers'].map(len)>numberOfQuestions)]\n",
    "if not incorrect_length.empty:\n",
    "    incorrect_length=incorrect_length[['Srl No', 'Name','Answers']]\n",
    "    print(\"The following students had too many or too few answers\")\n",
    "    display(incorrect_length)\n",
    "assert incorrect_length.empty, \"Check that all answer strings have correct length\" \n",
    "\n",
    "last_entry_missing=df[df['Answers'].map(len)==numberOfQuestions-1]\n",
    "if not last_entry_missing.empty:\n",
    "    last_entry_missing=last_entry_missing[['Srl No', 'Name','Answers']]\n",
    "    print(\"The following students had no entry for the version question\")\n",
    "    display(last_entry_missing)\n",
    "last_entry_space = df[(df['Answers'].str[-1] == ' ') & (df['Answers'].map(len) == numberOfQuestions)]\n",
    "if not last_entry_space.empty:\n",
    "    last_entry_space=last_entry_space[['Srl No', 'Name','Answers']]\n",
    "    print(\"The following students had a blank entered for version question\")\n",
    "    display(last_entry_space)\n",
    "\n",
    "print(\"Starting calculations...\")\n",
    "starttime = time()\n",
    "\n",
    "df=process_grades(df,outs, QIDs ,analysis_df, new_totalpoints, numberOfVersions, analysis=True,exempt_questions=exempts,skipped_questions = skipped)\n",
    "number_correct_by_version, students_by_version = analyse_items(df, koschen_paper,keylist)\n",
    "item_analysis_df = make_item_analysis(analysis_df, v0_question_list) \n",
    "endtime = time()\n",
    "print(\"Done. That took: \"+str(endtime-starttime)+ \" sec for \"+str(numberOfStudents)+\" students\")\n",
    "#check for duplicated serial numbers\n",
    "dupes=df[df['Srl No'].duplicated(keep=False)]\n",
    "if not dupes.empty:\n",
    "    print('Warning: Duplicates in serial numbers found!')\n",
    "    display(dupes)    \n",
    "max_score=analysis_df.at[analysis_df['score'].idxmax(),'score']"
   ]
  },
  {
   "cell_type": "code",
   "execution_count": 5,
   "metadata": {},
   "outputs": [
    {
     "data": {
      "image/png": "[encoded data removed]",
      "text/plain": [
       "<Figure size 432x288 with 1 Axes>"
      ]
     },
     "metadata": {
      "needs_background": "light"
     },
     "output_type": "display_data"
    }
   ],
   "source": [
    "write_to_csv(df.sort_values('Score', ascending=False),rawdatafilename)\n",
    "if (os.path.isfile('mystyle.css')):\n",
    "    write_to_webpage(rawdatafilename, totalpoints, new_totalpoints,  df, item_analysis_df, point_drop, number_correct_by_version, students_by_version, list_of_free_qs=exempts, list_of_skipped_qs=skipped)\n",
    "else:\n",
    "    print(\"Copy the css file over first\")"
   ]
  },
  {
   "cell_type": "code",
   "execution_count": null,
   "metadata": {},
   "outputs": [],
   "source": [
    "#Grades and displays the N'th entry in the list using a keylist\n",
    "N=random.randint(1,df.shape[0]-1)\n",
    "#for N in range(df.shape[0]-1):\n",
    "#N=9\n",
    "exempts=make_special_question_list(freebies, QIDs)\n",
    "check1=gradeWithKeylist(df.iat[N,2], outs, QIDs, analysis_df, analysis=False, exempt_questions=exempts, skipped_questions=skipped)\n",
    "print(\"Row \"+ str(N)+\": \"+df.iat[N,1]+\", \"+str(df.iat[N,0])+\". Missed \"+str(check1['missed'])+ \". Scored \"+str(check1['score'])+\"/\"+str(new_totalpoints))\n",
    "print('That is: '+str(100*check1['score']/new_totalpoints)+'% with '+str(point_drop)+' points dropped')"
   ]
  },
  {
   "cell_type": "code",
   "execution_count": 8,
   "metadata": {},
   "outputs": [
    {
     "data": {
      "text/html": [
       "<div>\n",
       "<style scoped>\n",
       "    .dataframe tbody tr th:only-of-type {\n",
       "        vertical-align: middle;\n",
       "    }\n",
       "\n",
       "    .dataframe tbody tr th {\n",
       "        vertical-align: top;\n",
       "    }\n",
       "\n",
       "    .dataframe thead th {\n",
       "        text-align: right;\n",
       "    }\n",
       "</style>\n",
       "<table border=\"1\" class=\"dataframe\">\n",
       "  <thead>\n",
       "    <tr style=\"text-align: right;\">\n",
       "      <th></th>\n",
       "      <th>Srl No</th>\n",
       "      <th>Name</th>\n",
       "      <th>Answers</th>\n",
       "      <th>Missed</th>\n",
       "      <th>Score</th>\n",
       "      <th>Percentage</th>\n",
       "    </tr>\n",
       "  </thead>\n",
       "  <tbody>\n",
       "    <tr>\n",
       "      <th>126</th>\n",
       "      <td>1062</td>\n",
       "      <td>WHEAT EMMA</td>\n",
       "      <td>1310401012334330114</td>\n",
       "      <td>vE: 5, 11, 13, 18</td>\n",
       "      <td>42</td>\n",
       "      <td>82.352941</td>\n",
       "    </tr>\n",
       "  </tbody>\n",
       "</table>\n",
       "</div>"
      ],
      "text/plain": [
       "    Srl No        Name              Answers             Missed  Score  \\\n",
       "126  1062   WHEAT EMMA  1310401012334330114  vE: 5, 11, 13, 18  42      \n",
       "\n",
       "     Percentage  \n",
       "126  82.352941   "
      ]
     },
     "execution_count": 8,
     "metadata": {},
     "output_type": "execute_result"
    }
   ],
   "source": [
    "#Searches the results by name. Enter a name or part of a name in string_to_search below\n",
    "string_to_search = \"wheat\"\n",
    "string_to_search = string_to_search.upper()\n",
    "df[df['Name'].str.contains(string_to_search)] # code to search by name"
   ]
  },
  {
   "cell_type": "markdown",
   "metadata": {},
   "source": [
    "# DEVELOPMENT AREA\n",
    "## All code below is in development\n"
   ]
  },
  {
   "cell_type": "code",
   "execution_count": null,
   "metadata": {},
   "outputs": [],
   "source": [
    "msd=check1['missed']"
   ]
  },
  {
   "cell_type": "code",
   "execution_count": null,
   "metadata": {},
   "outputs": [],
   "source": [
    "msd.upper()"
   ]
  },
  {
   "cell_type": "code",
   "execution_count": null,
   "metadata": {},
   "outputs": [],
   "source": [
    "def remove_whitespace(string): \n",
    "    return string.replace(\" \", \"\") "
   ]
  },
  {
   "cell_type": "code",
   "execution_count": null,
   "metadata": {},
   "outputs": [],
   "source": [
    "msd = remove_whitespace(msd)"
   ]
  },
  {
   "cell_type": "code",
   "execution_count": null,
   "metadata": {},
   "outputs": [],
   "source": [
    "msd"
   ]
  },
  {
   "cell_type": "code",
   "execution_count": null,
   "metadata": {},
   "outputs": [],
   "source": [
    "og1.head()"
   ]
  },
  {
   "cell_type": "code",
   "execution_count": null,
   "metadata": {},
   "outputs": [],
   "source": [
    "from myconfig import *"
   ]
  },
  {
   "cell_type": "code",
   "execution_count": null,
   "metadata": {},
   "outputs": [],
   "source": [
    "good_name"
   ]
  },
  {
   "cell_type": "code",
   "execution_count": null,
   "metadata": {},
   "outputs": [],
   "source": [
    "freebies"
   ]
  },
  {
   "cell_type": "code",
   "execution_count": null,
   "metadata": {},
   "outputs": [],
   "source": [
    "fake_name"
   ]
  },
  {
   "cell_type": "code",
   "execution_count": null,
   "metadata": {},
   "outputs": [],
   "source": [
    "sum_pointlists =[sum(x) for x in pointlist]\n",
    "the_common_sum = set(sum_pointlists)\n",
    "assert((len(the_common_sum)==1))\n",
    "list(the_common_sum)[0]"
   ]
  },
  {
   "cell_type": "code",
   "execution_count": null,
   "metadata": {},
   "outputs": [],
   "source": [
    "assert((len(the_common_sum)==1))"
   ]
  },
  {
   "cell_type": "code",
   "execution_count": null,
   "metadata": {},
   "outputs": [],
   "source": [
    "list(the_common_sum)[0]"
   ]
  },
  {
   "cell_type": "code",
   "execution_count": null,
   "metadata": {},
   "outputs": [],
   "source": [
    "sum_of_points"
   ]
  },
  {
   "cell_type": "code",
   "execution_count": null,
   "metadata": {},
   "outputs": [],
   "source": [
    "tstname"
   ]
  },
  {
   "cell_type": "code",
   "execution_count": null,
   "metadata": {},
   "outputs": [],
   "source": [
    "tstfiles=glob.glob(\"*.tst\")"
   ]
  },
  {
   "cell_type": "code",
   "execution_count": null,
   "metadata": {},
   "outputs": [],
   "source": [
    "tstfiles"
   ]
  },
  {
   "cell_type": "code",
   "execution_count": null,
   "metadata": {},
   "outputs": [],
   "source": [
    "tstfiles[0][:-5]"
   ]
  },
  {
   "cell_type": "code",
   "execution_count": null,
   "metadata": {},
   "outputs": [],
   "source": [
    "tstnames=[x[:-5] for x in tstfiles]"
   ]
  },
  {
   "cell_type": "code",
   "execution_count": null,
   "metadata": {},
   "outputs": [],
   "source": [
    "unique_names = list(set(tstnames))"
   ]
  },
  {
   "cell_type": "code",
   "execution_count": null,
   "metadata": {},
   "outputs": [],
   "source": [
    "unique_names[1]"
   ]
  },
  {
   "cell_type": "code",
   "execution_count": null,
   "metadata": {},
   "outputs": [],
   "source": [
    "def most_frequent(name_list): \n",
    "    return max(set(name_list), key = name_list.count)"
   ]
  },
  {
   "cell_type": "code",
   "execution_count": null,
   "metadata": {},
   "outputs": [],
   "source": [
    "most_frequent(tstnames)"
   ]
  },
  {
   "cell_type": "code",
   "execution_count": null,
   "metadata": {},
   "outputs": [],
   "source": []
  }
 ],
 "metadata": {
  "kernelspec": {
   "display_name": "Python 3",
   "language": "python",
   "name": "python3"
  },
  "language_info": {
   "codemirror_mode": {
    "name": "ipython",
    "version": 3
   },
   "file_extension": ".py",
   "mimetype": "text/x-python",
   "name": "python",
   "nbconvert_exporter": "python",
   "pygments_lexer": "ipython3",
   "version": "3.8.8"
  }
 },
 "nbformat": 4,
 "nbformat_minor": 2
}
